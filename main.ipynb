{
 "cells": [
  {
   "cell_type": "code",
   "execution_count": 1,
   "metadata": {},
   "outputs": [],
   "source": [
    "import random"
   ]
  },
  {
   "cell_type": "code",
   "execution_count": 2,
   "metadata": {},
   "outputs": [],
   "source": [
    "a = \"Reinforcement learning is the future of AI!\"\n",
    "b = \"Reinforcement learning is the next revolution in AI technology!\"\n",
    "c = \"Machine learning is cool!\""
   ]
  },
  {
   "cell_type": "markdown",
   "metadata": {},
   "source": [
    "# 1. Shingling"
   ]
  },
  {
   "cell_type": "code",
   "execution_count": 3,
   "metadata": {},
   "outputs": [],
   "source": [
    "k = 2\n",
    "def create_single_set(sentence, k):\n",
    "    n = len(sentence)\n",
    "    single = set()\n",
    "    for i in range(n-k+1):\n",
    "        single.add(sentence[i:i+k])\n",
    "    return single"
   ]
  },
  {
   "cell_type": "code",
   "execution_count": 4,
   "metadata": {},
   "outputs": [
    {
     "data": {
      "text/plain": [
       "(40, 55, 23)"
      ]
     },
     "execution_count": 4,
     "metadata": {},
     "output_type": "execute_result"
    }
   ],
   "source": [
    "a_shingles = create_single_set(a, k)\n",
    "b_shingles = create_single_set(b, k)\n",
    "c_shingles = create_single_set(c, k)\n",
    "len(a_shingles), len(b_shingles), len(c_shingles)"
   ]
  },
  {
   "cell_type": "code",
   "execution_count": 5,
   "metadata": {},
   "outputs": [
    {
     "data": {
      "text/plain": [
       "{' A',\n",
       " ' f',\n",
       " ' i',\n",
       " ' l',\n",
       " ' o',\n",
       " ' t',\n",
       " 'AI',\n",
       " 'I!',\n",
       " 'Re',\n",
       " 'ar',\n",
       " 'ce',\n",
       " 'e ',\n",
       " 'ea',\n",
       " 'ei',\n",
       " 'em',\n",
       " 'en',\n",
       " 'f ',\n",
       " 'fo',\n",
       " 'fu',\n",
       " 'g ',\n",
       " 'he',\n",
       " 'in',\n",
       " 'is',\n",
       " 'le',\n",
       " 'me',\n",
       " 'nf',\n",
       " 'ng',\n",
       " 'ni',\n",
       " 'nt',\n",
       " 'of',\n",
       " 'or',\n",
       " 'rc',\n",
       " 're',\n",
       " 'rn',\n",
       " 's ',\n",
       " 't ',\n",
       " 'th',\n",
       " 'tu',\n",
       " 'ur',\n",
       " 'ut'}"
      ]
     },
     "execution_count": 5,
     "metadata": {},
     "output_type": "execute_result"
    }
   ],
   "source": [
    "a_shingles"
   ]
  },
  {
   "cell_type": "code",
   "execution_count": 6,
   "metadata": {},
   "outputs": [
    {
     "data": {
      "text/plain": [
       "70"
      ]
     },
     "execution_count": 6,
     "metadata": {},
     "output_type": "execute_result"
    }
   ],
   "source": [
    "# Create vocabulary\n",
    "vocabulary = a_shingles.union(b_shingles).union(c_shingles)\n",
    "vocabulary = list(vocabulary)\n",
    "len(vocabulary)"
   ]
  },
  {
   "cell_type": "code",
   "execution_count": 7,
   "metadata": {},
   "outputs": [],
   "source": [
    "def create_one_hot_vector(shingles, vocabulary):\n",
    "    return [1 if v in shingles else 0 for v in vocabulary]"
   ]
  },
  {
   "cell_type": "code",
   "execution_count": 8,
   "metadata": {},
   "outputs": [],
   "source": [
    "one_hot_a = create_one_hot_vector(a_shingles, vocabulary)\n",
    "one_hot_b = create_one_hot_vector(b_shingles, vocabulary)\n",
    "one_hot_c = create_one_hot_vector(c_shingles, vocabulary)"
   ]
  },
  {
   "cell_type": "code",
   "execution_count": 9,
   "metadata": {},
   "outputs": [
    {
     "data": {
      "text/plain": [
       "70"
      ]
     },
     "execution_count": 9,
     "metadata": {},
     "output_type": "execute_result"
    }
   ],
   "source": [
    "len(one_hot_a)"
   ]
  },
  {
   "cell_type": "markdown",
   "metadata": {},
   "source": [
    "# 2. Min-Hashing"
   ]
  },
  {
   "cell_type": "code",
   "execution_count": 10,
   "metadata": {},
   "outputs": [],
   "source": [
    "hash1 = list(range(len(vocabulary)))\n",
    "random.shuffle(hash1)\n",
    "\n",
    "hash2 = list(range(len(vocabulary)))\n",
    "random.shuffle(hash2)\n",
    "\n",
    "hash3 = list(range(len(vocabulary)))\n",
    "random.shuffle(hash3)\n",
    "\n",
    "hashes = [hash1, hash2, hash3]"
   ]
  },
  {
   "cell_type": "code",
   "execution_count": 11,
   "metadata": {},
   "outputs": [],
   "source": [
    "def make_min_hash(vocabulary):\n",
    "    l = list(range(len(vocabulary)))\n",
    "    random.shuffle(l)\n",
    "    return l"
   ]
  },
  {
   "cell_type": "code",
   "execution_count": 12,
   "metadata": {},
   "outputs": [],
   "source": [
    "hashes = [make_min_hash(vocabulary) for _ in range(20)]"
   ]
  },
  {
   "cell_type": "code",
   "execution_count": 31,
   "metadata": {},
   "outputs": [
    {
     "data": {
      "text/plain": [
       "(70, 70)"
      ]
     },
     "execution_count": 31,
     "metadata": {},
     "output_type": "execute_result"
    }
   ],
   "source": [
    "len(hashes[0]), len(vocabulary)"
   ]
  },
  {
   "cell_type": "code",
   "execution_count": 32,
   "metadata": {},
   "outputs": [],
   "source": [
    "def run_min_hash(one_hot, hashes):\n",
    "    signature = []\n",
    "    for h in hashes:\n",
    "        for i, idx in enumerate(h):\n",
    "            if one_hot[idx] == 1:\n",
    "                signature.append(i)\n",
    "                break\n",
    "    return signature"
   ]
  },
  {
   "cell_type": "code",
   "execution_count": 43,
   "metadata": {},
   "outputs": [
    {
     "data": {
      "text/plain": [
       "[14,\n",
       " 14,\n",
       " 43,\n",
       " 25,\n",
       " 28,\n",
       " 61,\n",
       " 14,\n",
       " 33,\n",
       " 11,\n",
       " 57,\n",
       " 14,\n",
       " 62,\n",
       " 15,\n",
       " 26,\n",
       " 26,\n",
       " 14,\n",
       " 58,\n",
       " 33,\n",
       " 14,\n",
       " 25]"
      ]
     },
     "execution_count": 43,
     "metadata": {},
     "output_type": "execute_result"
    }
   ],
   "source": [
    "def create_hash(one_hot: list):\n",
    "    # use this function for creating our signatures (eg the matching)\n",
    "    signature = []\n",
    "    for h in hashes:\n",
    "        for i in range(len(h)):\n",
    "            idx = h.index(i)\n",
    "            if one_hot[idx] == 1:\n",
    "                signature.append(idx)\n",
    "                break\n",
    "    return signature\n",
    "\n",
    "create_hash(one_hot_c)\n"
   ]
  },
  {
   "cell_type": "code",
   "execution_count": 41,
   "metadata": {},
   "outputs": [
    {
     "data": {
      "text/plain": [
       "[14,\n",
       " 14,\n",
       " 43,\n",
       " 25,\n",
       " 28,\n",
       " 61,\n",
       " 14,\n",
       " 33,\n",
       " 11,\n",
       " 57,\n",
       " 14,\n",
       " 62,\n",
       " 15,\n",
       " 26,\n",
       " 26,\n",
       " 14,\n",
       " 58,\n",
       " 33,\n",
       " 14,\n",
       " 25]"
      ]
     },
     "execution_count": 41,
     "metadata": {},
     "output_type": "execute_result"
    }
   ],
   "source": []
  },
  {
   "cell_type": "code",
   "execution_count": 33,
   "metadata": {},
   "outputs": [
    {
     "data": {
      "text/plain": [
       "([0, 1, 3, 0, 0, 0, 0, 0, 0, 0, 1, 1, 0, 0, 0, 0, 1, 1, 0, 0],\n",
       " [0, 0, 0, 0, 1, 0, 1, 1, 0, 1, 0, 0, 1, 0, 0, 0, 0, 0, 0, 0],\n",
       " [0, 3, 0, 0, 5, 0, 5, 10, 1, 4, 4, 15, 3, 0, 0, 3, 5, 0, 0, 0])"
      ]
     },
     "execution_count": 33,
     "metadata": {},
     "output_type": "execute_result"
    }
   ],
   "source": [
    "a_signature = run_min_hash(one_hot_a, hashes)\n",
    "b_signature = run_min_hash(one_hot_b, hashes)\n",
    "c_signature = run_min_hash(one_hot_c, hashes)\n",
    "a_signature, b_signature, c_signature"
   ]
  },
  {
   "cell_type": "markdown",
   "metadata": {},
   "source": [
    "## Quick test"
   ]
  },
  {
   "cell_type": "code",
   "execution_count": 17,
   "metadata": {},
   "outputs": [],
   "source": [
    "def jaccard(a, b):\n",
    "    a, b = set(a), set(b)\n",
    "    return len(a.intersection(b)) / len(a.union(b))"
   ]
  },
  {
   "cell_type": "code",
   "execution_count": 18,
   "metadata": {},
   "outputs": [
    {
     "data": {
      "text/plain": [
       "(1.0, 0.42857142857142855, 0.2857142857142857)"
      ]
     },
     "execution_count": 18,
     "metadata": {},
     "output_type": "execute_result"
    }
   ],
   "source": [
    "jaccard(one_hot_a, one_hot_b), jaccard(a_signature, c_signature), jaccard(b_signature, c_signature)"
   ]
  }
 ],
 "metadata": {
  "kernelspec": {
   "display_name": ".venv",
   "language": "python",
   "name": "python3"
  },
  "language_info": {
   "codemirror_mode": {
    "name": "ipython",
    "version": 3
   },
   "file_extension": ".py",
   "mimetype": "text/x-python",
   "name": "python",
   "nbconvert_exporter": "python",
   "pygments_lexer": "ipython3",
   "version": "3.11.11"
  }
 },
 "nbformat": 4,
 "nbformat_minor": 2
}
